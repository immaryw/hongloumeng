{
 "cells": [
  {
   "cell_type": "markdown",
   "metadata": {},
   "source": [
    "# Conditional Random Field example for position tagging\n",
    "By LongGang Pang\n"
   ]
  },
  {
   "cell_type": "code",
   "execution_count": 1,
   "metadata": {
    "collapsed": true
   },
   "outputs": [],
   "source": [
    "import os"
   ]
  },
  {
   "cell_type": "code",
   "execution_count": 14,
   "metadata": {
    "collapsed": true
   },
   "outputs": [],
   "source": [
    "def construct_dataset(kind=\"training\"):\n",
    "    with open(\"%s_sentence.csv\"%kind, \"r\") as fin:\n",
    "        sentences = fin.readlines()\n",
    "    with open(\"%s_labels.csv\"%kind, \"r\") as fin:\n",
    "        labels = fin.readlines()\n",
    "    #print(sentences[-1])\n",
    "    #print(labels[-1])\n",
    "    docs = []\n",
    "    for i in range(len(sentences)):\n",
    "        texts = []\n",
    "        istart, iend, _ = labels[i].split('|||')\n",
    "        istart = int(istart)\n",
    "        iend = int(iend)\n",
    "        for j, w in enumerate(sentences[i]):\n",
    "            is_speaker = \"F\"\n",
    "            if j in range(istart, iend):\n",
    "                is_speaker = 'T'\n",
    "            texts.append((w, is_speaker))\n",
    "        docs.append(texts)\n",
    "    return docs"
   ]
  },
  {
   "cell_type": "code",
   "execution_count": 15,
   "metadata": {},
   "outputs": [],
   "source": [
    "docs = construct_dataset()"
   ]
  },
  {
   "cell_type": "code",
   "execution_count": 16,
   "metadata": {},
   "outputs": [
    {
     "data": {
      "text/plain": [
       "[('凤', 'F'),\n",
       " ('姐', 'F'),\n",
       " ('因', 'F'),\n",
       " ('问', 'F'),\n",
       " ('何', 'F'),\n",
       " ('事', 'F'),\n",
       " ('．', 'F'),\n",
       " ('凤', 'T'),\n",
       " ('姐', 'T'),\n",
       " ('道', 'F'),\n",
       " ('：', 'F'),\n",
       " ('\\n', 'F')]"
      ]
     },
     "execution_count": 16,
     "metadata": {},
     "output_type": "execute_result"
    }
   ],
   "source": [
    "docs[0]"
   ]
  },
  {
   "cell_type": "code",
   "execution_count": 20,
   "metadata": {},
   "outputs": [
    {
     "data": {
      "application/vnd.jupyter.widget-view+json": {
       "model_id": "46a5cfa5550f4ca3b79410abbb7e739e"
      }
     },
     "metadata": {},
     "output_type": "display_data"
    }
   ],
   "source": [
    "import nltk\n",
    "from tqdm import tqdm_notebook\n",
    "data = []\n",
    "for i, doc in tqdm_notebook(enumerate(docs)):\n",
    "\n",
    "    # Obtain the list of tokens in the document\n",
    "    tokens = [t for t, label in doc]\n",
    "\n",
    "    # Perform POS tagging\n",
    "    tagged = nltk.pos_tag(tokens)\n",
    "\n",
    "    # Take the word, POS tag, and its label\n",
    "    data.append([(w, pos, label) for (w, label), (word, pos) in zip(doc, tagged)])\n"
   ]
  },
  {
   "cell_type": "code",
   "execution_count": 21,
   "metadata": {
    "collapsed": true
   },
   "outputs": [],
   "source": [
    "def word2features(doc, i):\n",
    "    word = doc[i][0]\n",
    "    postag = doc[i][1]\n",
    "\n",
    "    # Common features for all words\n",
    "    features = [\n",
    "        'bias',\n",
    "        'word.lower=' + word.lower(),\n",
    "        'word[-3:]=' + word[-3:],\n",
    "        'word[-2:]=' + word[-2:],\n",
    "        'word.isupper=%s' % word.isupper(),\n",
    "        'word.istitle=%s' % word.istitle(),\n",
    "        'word.isdigit=%s' % word.isdigit(),\n",
    "        'postag=' + postag\n",
    "    ]\n",
    "\n",
    "    # Features for words that are not\n",
    "    # at the beginning of a document\n",
    "    if i > 0:\n",
    "        word1 = doc[i-1][0]\n",
    "        postag1 = doc[i-1][1]\n",
    "        features.extend([\n",
    "            '-1:word.lower=' + word1.lower(),\n",
    "            '-1:word.istitle=%s' % word1.istitle(),\n",
    "            '-1:word.isupper=%s' % word1.isupper(),\n",
    "            '-1:word.isdigit=%s' % word1.isdigit(),\n",
    "            '-1:postag=' + postag1\n",
    "        ])\n",
    "    else:\n",
    "        # Indicate that it is the 'beginning of a document'\n",
    "        features.append('BOS')\n",
    "\n",
    "    # Features for words that are not\n",
    "    # at the end of a document\n",
    "    if i < len(doc)-1:\n",
    "        word1 = doc[i+1][0]\n",
    "        postag1 = doc[i+1][1]\n",
    "        features.extend([\n",
    "            '+1:word.lower=' + word1.lower(),\n",
    "            '+1:word.istitle=%s' % word1.istitle(),\n",
    "            '+1:word.isupper=%s' % word1.isupper(),\n",
    "            '+1:word.isdigit=%s' % word1.isdigit(),\n",
    "            '+1:postag=' + postag1\n",
    "        ])\n",
    "    else:\n",
    "        # Indicate that it is the 'end of a document'\n",
    "        features.append('EOS')\n",
    "\n",
    "    return features"
   ]
  },
  {
   "cell_type": "code",
   "execution_count": 22,
   "metadata": {
    "collapsed": true
   },
   "outputs": [],
   "source": [
    "from sklearn.model_selection import train_test_split\n",
    "\n",
    "# A function for extracting features in documents\n",
    "def extract_features(doc):\n",
    "    return [word2features(doc, i) for i in range(len(doc))]\n",
    "\n",
    "# A function fo generating the list of labels for each document\n",
    "def get_labels(doc):\n",
    "    return [label for (token, postag, label) in doc]\n",
    "\n",
    "X = [extract_features(doc) for doc in data]\n",
    "y = [get_labels(doc) for doc in data]\n",
    "\n",
    "X_train, X_test, y_train, y_test = train_test_split(X, y, test_size=0.2)"
   ]
  },
  {
   "cell_type": "code",
   "execution_count": 26,
   "metadata": {
    "scrolled": true
   },
   "outputs": [],
   "source": [
    "import pycrfsuite\n",
    "trainer = pycrfsuite.Trainer(verbose=False)\n",
    "\n",
    "# Submit training data to the trainer\n",
    "for xseq, yseq in zip(X_train, y_train):\n",
    "    trainer.append(xseq, yseq)\n",
    "\n",
    "# Set the parameters of the model\n",
    "trainer.set_params({\n",
    "    # coefficient for L1 penalty\n",
    "    'c1': 0.1,\n",
    "\n",
    "    # coefficient for L2 penalty\n",
    "    'c2': 0.01,  \n",
    "\n",
    "    # maximum number of iterations\n",
    "    'max_iterations': 200,\n",
    "     \n",
    "    # whether to include transitions that\n",
    "    # are possible, but not observed\n",
    "    'feature.possible_transitions': True\n",
    "})\n",
    "\n",
    "# Provide a file name as a parameter to the train function, such that\n",
    "# the model will be saved to the file when training is finished\n",
    "trainer.train('crf.model')"
   ]
  },
  {
   "cell_type": "code",
   "execution_count": 30,
   "metadata": {},
   "outputs": [],
   "source": [
    "tagger = pycrfsuite.Tagger()\n",
    "tagger.open('crf.model')\n",
    "y_pred = [tagger.tag(xseq) for xseq in X_test]"
   ]
  },
  {
   "cell_type": "code",
   "execution_count": 41,
   "metadata": {},
   "outputs": [
    {
     "data": {
      "text/plain": [
       "'word.lower=幻'"
      ]
     },
     "execution_count": 41,
     "metadata": {},
     "output_type": "execute_result"
    }
   ],
   "source": [
    "y_pred[2]\n",
    "X_test[2][1][1]"
   ]
  },
  {
   "cell_type": "code",
   "execution_count": 73,
   "metadata": {
    "collapsed": true
   },
   "outputs": [],
   "source": [
    "from IPython.display import HTML as html_print, display\n",
    "\n",
    "def cstr(s, color='black'):\n",
    "    #return \"<text style=color:{}>{}</text>\".format(color, s)\n",
    "    return \"<span style=\\\"color: #ff0000\\\">{}</span>\".format(s)\n",
    "    #return \"**{}**\".format(s)\n",
    "\n",
    "#left, word, right = 'foo' , 'abc' , 'bar'\n",
    "#html_print(cstr(' '.join([left, cstr(word, color='red'), right]), color='black') )\n",
    "from IPython.display import Markdown"
   ]
  },
  {
   "cell_type": "code",
   "execution_count": 74,
   "metadata": {},
   "outputs": [
    {
     "data": {
      "text/markdown": [
       "见 面 时 彼 此 悲 喜 交 接 ， 未 免 又 大 哭 一 阵 ， 后 又 致 喜 庆 之 词 ． 宝 玉 心 中 品 度 黛 玉 ， 越 发 出 落 的 超 逸 了 ． <span style=\"color: #ff0000\">黛</span> <span style=\"color: #ff0000\">玉</span> 又 带 了 许 多 书 籍 来 ， 忙 着 打 扫 卧 室 ， 安 插 器 具 ， 又 将 些 纸 笔 等 物 分 送 宝 钗 ， 迎 春 ， 宝 玉 等 人 ． <span style=\"color: #ff0000\">宝</span> <span style=\"color: #ff0000\">玉</span> 又 将 北 静 王 所 赠 й к 香 串 珍 重 取 出 来 ， 转 赠 黛 玉 ． <span style=\"color: #ff0000\">门</span> <span style=\"color: #ff0000\">子</span> 说 ： \n"
      ],
      "text/plain": [
       "<IPython.core.display.Markdown object>"
      ]
     },
     "metadata": {},
     "output_type": "display_data"
    }
   ],
   "source": [
    "# Let's take a look at a random sample in the testing set\n",
    "def check_result(i=12):\n",
    "    res = []\n",
    "    for j, label in enumerate(y_pred[i]):\n",
    "        word = X_test[i][j][1].split(\"=\")[1]\n",
    "        if label == 'T':\n",
    "            res.append(cstr(word, color='red'))\n",
    "        elif label == 'F':\n",
    "            res.append(word)\n",
    "    display(Markdown(' '.join(res)))\n",
    "\n",
    "check_result()"
   ]
  },
  {
   "cell_type": "code",
   "execution_count": 76,
   "metadata": {
    "scrolled": false
   },
   "outputs": [
    {
     "data": {
      "text/markdown": [
       "<span style=\"color: #ff0000\">宝</span> <span style=\"color: #ff0000\">玉</span> 进 来 回 道 ： \n"
      ],
      "text/plain": [
       "<IPython.core.display.Markdown object>"
      ]
     },
     "metadata": {},
     "output_type": "display_data"
    },
    {
     "data": {
      "text/markdown": [
       "<span style=\"color: #ff0000\">凤</span> <span style=\"color: #ff0000\">姐</span> 道 ： \n"
      ],
      "text/plain": [
       "<IPython.core.display.Markdown object>"
      ]
     },
     "metadata": {},
     "output_type": "display_data"
    },
    {
     "data": {
      "text/markdown": [
       "<span style=\"color: #ff0000\">警</span> <span style=\"color: #ff0000\">幻</span> 劝 道 ： \n"
      ],
      "text/plain": [
       "<IPython.core.display.Markdown object>"
      ]
     },
     "metadata": {},
     "output_type": "display_data"
    },
    {
     "data": {
      "text/markdown": [
       "<span style=\"color: #ff0000\">茗</span> <span style=\"color: #ff0000\">烟</span> 道 ： \n"
      ],
      "text/plain": [
       "<IPython.core.display.Markdown object>"
      ]
     },
     "metadata": {},
     "output_type": "display_data"
    },
    {
     "data": {
      "text/markdown": [
       "<span style=\"color: #ff0000\">小</span> <span style=\"color: #ff0000\">丫</span> <span style=\"color: #ff0000\">头</span> 笑 道 ： \n"
      ],
      "text/plain": [
       "<IPython.core.display.Markdown object>"
      ]
     },
     "metadata": {},
     "output_type": "display_data"
    },
    {
     "data": {
      "text/markdown": [
       "一 面 说 着 ， 一 面 便 塞 于 靴 掖 内 ． <span style=\"color: #ff0000\">贾</span> <span style=\"color: #ff0000\">母</span> 咬 牙 道 ： \n"
      ],
      "text/plain": [
       "<IPython.core.display.Markdown object>"
      ]
     },
     "metadata": {},
     "output_type": "display_data"
    },
    {
     "data": {
      "text/markdown": [
       "<span style=\"color: #ff0000\">小</span> 道 ： \n"
      ],
      "text/plain": [
       "<IPython.core.display.Markdown object>"
      ]
     },
     "metadata": {},
     "output_type": "display_data"
    },
    {
     "data": {
      "text/markdown": [
       "<span style=\"color: #ff0000\">贾</span> <span style=\"color: #ff0000\">蔷</span> 道 ： \n"
      ],
      "text/plain": [
       "<IPython.core.display.Markdown object>"
      ]
     },
     "metadata": {},
     "output_type": "display_data"
    },
    {
     "data": {
      "text/markdown": [
       "<span style=\"color: #ff0000\">众</span> <span style=\"color: #ff0000\">清</span> <span style=\"color: #ff0000\">客</span> 道 ： \n"
      ],
      "text/plain": [
       "<IPython.core.display.Markdown object>"
      ]
     },
     "metadata": {},
     "output_type": "display_data"
    },
    {
     "data": {
      "text/markdown": [
       "<span style=\"color: #ff0000\">水</span> <span style=\"color: #ff0000\">溶</span> 的 道 ： \n"
      ],
      "text/plain": [
       "<IPython.core.display.Markdown object>"
      ]
     },
     "metadata": {},
     "output_type": "display_data"
    },
    {
     "data": {
      "text/markdown": [
       "<span style=\"color: #ff0000\">周</span> <span style=\"color: #ff0000\">瑞</span> <span style=\"color: #ff0000\">家</span> <span style=\"color: #ff0000\">的</span> 点 头 ． 又 道 ： \n"
      ],
      "text/plain": [
       "<IPython.core.display.Markdown object>"
      ]
     },
     "metadata": {},
     "output_type": "display_data"
    },
    {
     "data": {
      "text/markdown": [
       "乃 亲 斟 一 斗 为 贺 ． <span style=\"color: #ff0000\">那</span> <span style=\"color: #ff0000\">僧</span> 因 干 过 ， 叹 道 ： \n"
      ],
      "text/plain": [
       "<IPython.core.display.Markdown object>"
      ]
     },
     "metadata": {},
     "output_type": "display_data"
    },
    {
     "data": {
      "text/markdown": [
       "见 面 时 彼 此 悲 喜 交 接 ， 未 免 又 大 哭 一 阵 ， 后 又 致 喜 庆 之 词 ． 宝 玉 心 中 品 度 黛 玉 ， 越 发 出 落 的 超 逸 了 ． <span style=\"color: #ff0000\">黛</span> <span style=\"color: #ff0000\">玉</span> 又 带 了 许 多 书 籍 来 ， 忙 着 打 扫 卧 室 ， 安 插 器 具 ， 又 将 些 纸 笔 等 物 分 送 宝 钗 ， 迎 春 ， 宝 玉 等 人 ． <span style=\"color: #ff0000\">宝</span> <span style=\"color: #ff0000\">玉</span> 又 将 北 静 王 所 赠 й к 香 串 珍 重 取 出 来 ， 转 赠 黛 玉 ． <span style=\"color: #ff0000\">门</span> <span style=\"color: #ff0000\">子</span> 说 ： \n"
      ],
      "text/plain": [
       "<IPython.core.display.Markdown object>"
      ]
     },
     "metadata": {},
     "output_type": "display_data"
    },
    {
     "data": {
      "text/markdown": [
       "<span style=\"color: #ff0000\">贾</span> <span style=\"color: #ff0000\">政</span> 听 了 ， 便 和 丫 头 说 ： \n"
      ],
      "text/plain": [
       "<IPython.core.display.Markdown object>"
      ]
     },
     "metadata": {},
     "output_type": "display_data"
    },
    {
     "data": {
      "text/markdown": [
       "<span style=\"color: #ff0000\">一</span> <span style=\"color: #ff0000\">个</span> <span style=\"color: #ff0000\">人</span> 道 ： \n"
      ],
      "text/plain": [
       "<IPython.core.display.Markdown object>"
      ]
     },
     "metadata": {},
     "output_type": "display_data"
    },
    {
     "data": {
      "text/markdown": [
       "<span style=\"color: #ff0000\">人</span> 道 ： \n"
      ],
      "text/plain": [
       "<IPython.core.display.Markdown object>"
      ]
     },
     "metadata": {},
     "output_type": "display_data"
    },
    {
     "data": {
      "text/markdown": [
       "<span style=\"color: #ff0000\">凤</span> <span style=\"color: #ff0000\">姐</span> 道 ： \n"
      ],
      "text/plain": [
       "<IPython.core.display.Markdown object>"
      ]
     },
     "metadata": {},
     "output_type": "display_data"
    },
    {
     "data": {
      "text/markdown": [
       "<span style=\"color: #ff0000\">邢</span> <span style=\"color: #ff0000\">夫</span> <span style=\"color: #ff0000\">人</span> <span style=\"color: #ff0000\">，</span> <span style=\"color: #ff0000\">王</span> <span style=\"color: #ff0000\">夫</span> <span style=\"color: #ff0000\">人</span> 道 ： \n"
      ],
      "text/plain": [
       "<IPython.core.display.Markdown object>"
      ]
     },
     "metadata": {},
     "output_type": "display_data"
    },
    {
     "data": {
      "text/markdown": [
       "<span style=\"color: #ff0000\">邢</span> <span style=\"color: #ff0000\">夫</span> <span style=\"color: #ff0000\">人</span> 只 怕 他 睡 出 病 来 ， 便 哄 他 道 ： \n"
      ],
      "text/plain": [
       "<IPython.core.display.Markdown object>"
      ]
     },
     "metadata": {},
     "output_type": "display_data"
    },
    {
     "data": {
      "text/markdown": [
       "<span style=\"color: #ff0000\">尤</span> <span style=\"color: #ff0000\">氏</span> <span style=\"color: #ff0000\">秦</span> <span style=\"color: #ff0000\">氏</span> 未 及 答 话 ， 地 下 <span style=\"color: #ff0000\">贾</span> <span style=\"color: #ff0000\">政</span> 先 就 笑 说 ： \n"
      ],
      "text/plain": [
       "<IPython.core.display.Markdown object>"
      ]
     },
     "metadata": {},
     "output_type": "display_data"
    },
    {
     "data": {
      "text/markdown": [
       "<span style=\"color: #ff0000\">凤</span> <span style=\"color: #ff0000\">姐</span> 听 说 ， 忙 命 快 传 饭 来 ． 一 时 周 瑞 家 的 传 了 一 桌 客 饭 来 ， 摆 在 东 边 屋 内 ， 过 来 带 了 刘 姥 姥 和 板 儿 过 去 吃 饭 ． <span style=\"color: #ff0000\">茗</span> <span style=\"color: #ff0000\">烟</span> 说 道 ： \n"
      ],
      "text/plain": [
       "<IPython.core.display.Markdown object>"
      ]
     },
     "metadata": {},
     "output_type": "display_data"
    },
    {
     "data": {
      "text/markdown": [
       "<span style=\"color: #ff0000\">宝</span> <span style=\"color: #ff0000\">玉</span> 道 ： \n"
      ],
      "text/plain": [
       "<IPython.core.display.Markdown object>"
      ]
     },
     "metadata": {},
     "output_type": "display_data"
    },
    {
     "data": {
      "text/markdown": [
       "<span style=\"color: #ff0000\">贾</span> <span style=\"color: #ff0000\">政</span> 忙 说 道 ： \n"
      ],
      "text/plain": [
       "<IPython.core.display.Markdown object>"
      ]
     },
     "metadata": {},
     "output_type": "display_data"
    },
    {
     "data": {
      "text/markdown": [
       "于 是 <span style=\"color: #ff0000\">凤</span> <span style=\"color: #ff0000\">姐</span> 就 吩 咐 媳 妇 婆 子 们 ： \n"
      ],
      "text/plain": [
       "<IPython.core.display.Markdown object>"
      ]
     },
     "metadata": {},
     "output_type": "display_data"
    },
    {
     "data": {
      "text/markdown": [
       "<span style=\"color: #ff0000\">人</span> 因 问 ： \n"
      ],
      "text/plain": [
       "<IPython.core.display.Markdown object>"
      ]
     },
     "metadata": {},
     "output_type": "display_data"
    },
    {
     "data": {
      "text/markdown": [
       "<span style=\"color: #ff0000\">凤</span> <span style=\"color: #ff0000\">姐</span> 不 待 说 完 ， 便 答 道 ： \n"
      ],
      "text/plain": [
       "<IPython.core.display.Markdown object>"
      ]
     },
     "metadata": {},
     "output_type": "display_data"
    },
    {
     "data": {
      "text/markdown": [
       "<span style=\"color: #ff0000\">贾</span> <span style=\"color: #ff0000\">政</span> 笑 道 ： \n"
      ],
      "text/plain": [
       "<IPython.core.display.Markdown object>"
      ]
     },
     "metadata": {},
     "output_type": "display_data"
    },
    {
     "data": {
      "text/markdown": [
       "<span style=\"color: #ff0000\">众</span> <span style=\"color: #ff0000\">人</span> 笑 道 ： \n"
      ],
      "text/plain": [
       "<IPython.core.display.Markdown object>"
      ]
     },
     "metadata": {},
     "output_type": "display_data"
    },
    {
     "data": {
      "text/markdown": [
       "见 贾 珍 苦 苦 的 说 到 这 步 田 地 ， 心 中 已 活 了 几 分 ， 却 又 眼 看 着 凤 姐 出 神 ． 那 凤 姐 素 日 最 喜 揽 事 办 ， 好 卖 弄 才 干 ， 虽 然 当 家 妥 当 ， 也 因 未 办 过 婚 丧 大 事 ， 恐 人 还 不 伏 ， 巴 不 得 遇 见 这 事 ． 今 见 贾 珍 如 此 一 来 ， 他 心 中 早 已 欢 喜 ． 先 见 王 夫 人 不 允 ， 后 见 贾 珍 说 的 情 真 ， <span style=\"color: #ff0000\">凤</span> <span style=\"color: #ff0000\">姐</span> 有 活 动 之 意 ， 便 向 王 夫 人 道 ： \n"
      ],
      "text/plain": [
       "<IPython.core.display.Markdown object>"
      ]
     },
     "metadata": {},
     "output_type": "display_data"
    },
    {
     "data": {
      "text/markdown": [
       "贾 母 正 说 着 ， 只 见 湘 云 走 来 ， 笑 道 ： \n"
      ],
      "text/plain": [
       "<IPython.core.display.Markdown object>"
      ]
     },
     "metadata": {},
     "output_type": "display_data"
    },
    {
     "data": {
      "text/markdown": [
       "<span style=\"color: #ff0000\">众</span> <span style=\"color: #ff0000\">人</span> 忙 道 ： \n"
      ],
      "text/plain": [
       "<IPython.core.display.Markdown object>"
      ]
     },
     "metadata": {},
     "output_type": "display_data"
    },
    {
     "data": {
      "text/markdown": [
       "<span style=\"color: #ff0000\">贾</span> <span style=\"color: #ff0000\">瑞</span> 听 了 这 话 ， 再 不 想 到 今 日 得 这 个 奇 遇 ， 那 神 情 光 景 亦 发 不 堪 难 看 了 ． <span style=\"color: #ff0000\">贾</span> <span style=\"color: #ff0000\">珍</span> 说 道 ： \n"
      ],
      "text/plain": [
       "<IPython.core.display.Markdown object>"
      ]
     },
     "metadata": {},
     "output_type": "display_data"
    },
    {
     "data": {
      "text/markdown": [
       "<span style=\"color: #ff0000\">凤</span> <span style=\"color: #ff0000\">姐</span> 听 了 ， 沉 吟 了 半 日 ， 因 向 凤 姐 儿 说 ： \n"
      ],
      "text/plain": [
       "<IPython.core.display.Markdown object>"
      ]
     },
     "metadata": {},
     "output_type": "display_data"
    },
    {
     "data": {
      "text/markdown": [
       "因 命 平 儿 拿 了 楼 房 的 钥 匙 ， 传 几 个 妥 当 人 抬 去 ． <span style=\"color: #ff0000\">宝</span> <span style=\"color: #ff0000\">玉</span> 喜 的 眉 开 眼 笑 ， 说 ： \n"
      ],
      "text/plain": [
       "<IPython.core.display.Markdown object>"
      ]
     },
     "metadata": {},
     "output_type": "display_data"
    },
    {
     "data": {
      "text/markdown": [
       "未 及 说 完 ， <span style=\"color: #ff0000\">水</span> <span style=\"color: #ff0000\">溶</span> 喝 道 ： \n"
      ],
      "text/plain": [
       "<IPython.core.display.Markdown object>"
      ]
     },
     "metadata": {},
     "output_type": "display_data"
    },
    {
     "data": {
      "text/markdown": [
       "<span style=\"color: #ff0000\">麝</span> <span style=\"color: #ff0000\">月</span> 听 说 ， 忙 向 镜 中 摆 手 ， 宝 玉 会 意 ． 忽 听 唿 一 声 帘 子 响 ， <span style=\"color: #ff0000\">凤</span> <span style=\"color: #ff0000\">姐</span> 又 跑 进 来 问 道 ： \n"
      ],
      "text/plain": [
       "<IPython.core.display.Markdown object>"
      ]
     },
     "metadata": {},
     "output_type": "display_data"
    },
    {
     "data": {
      "text/markdown": [
       "<span style=\"color: #ff0000\">宝</span> <span style=\"color: #ff0000\">玉</span> 道 ： \n"
      ],
      "text/plain": [
       "<IPython.core.display.Markdown object>"
      ]
     },
     "metadata": {},
     "output_type": "display_data"
    },
    {
     "data": {
      "text/markdown": [
       "<span style=\"color: #ff0000\">雨</span> <span style=\"color: #ff0000\">村</span> 忙 看 时 ， 此 人 是 都 中 在 古 董 行 中 贸 易 的 号 冷 子 兴 者 ， 旧 日 在 都 相 识 ． 雨 村 最 赞 这 冷 子 兴 是 个 有 作 为 大 本 领 的 人 ， 这 <span style=\"color: #ff0000\">子</span> <span style=\"color: #ff0000\">兴</span> 又 借 雨 村 斯 文 之 名 ， 故 二 人 说 话 投 机 ， 最 相 契 合 ． <span style=\"color: #ff0000\">平</span> <span style=\"color: #ff0000\">儿</span> 忙 笑 问 道 ： \n"
      ],
      "text/plain": [
       "<IPython.core.display.Markdown object>"
      ]
     },
     "metadata": {},
     "output_type": "display_data"
    },
    {
     "data": {
      "text/markdown": [
       "<span style=\"color: #ff0000\">宝</span> <span style=\"color: #ff0000\">玉</span> 听 说 ， 忙 下 了 马 ， 爬 入 凤 姐 车 上 ， 二 人 说 笑 前 来 ． 不 一 时 ， 只 见 从 那 边 <span style=\"color: #ff0000\">袭</span> <span style=\"color: #ff0000\">人</span> 压 地 飞 来 ， 离 凤 姐 车 不 远 ， 一 齐 蹿 下 来 ， 扶 车 回 说 ： \n"
      ],
      "text/plain": [
       "<IPython.core.display.Markdown object>"
      ]
     },
     "metadata": {},
     "output_type": "display_data"
    },
    {
     "data": {
      "text/markdown": [
       "那 <span style=\"color: #ff0000\">小</span> <span style=\"color: #ff0000\">丫</span> <span style=\"color: #ff0000\">头</span> 道 ： \n"
      ],
      "text/plain": [
       "<IPython.core.display.Markdown object>"
      ]
     },
     "metadata": {},
     "output_type": "display_data"
    },
    {
     "data": {
      "text/markdown": [
       "引 用 建 莲 子 七 粒 去 心 红 枣 二 枚 <span style=\"color: #ff0000\">宝</span> <span style=\"color: #ff0000\">玉</span> 看 了 ， 说 ： \n"
      ],
      "text/plain": [
       "<IPython.core.display.Markdown object>"
      ]
     },
     "metadata": {},
     "output_type": "display_data"
    },
    {
     "data": {
      "text/markdown": [
       "贾 环 素 日 怕 凤 姐 比 怕 王 夫 人 更 甚 ， 听 见 叫 他 ， 忙 唯 唯 的 出 来 ． 赵 姨 娘 也 不 敢 则 声 ． <span style=\"color: #ff0000\">众</span> <span style=\"color: #ff0000\">人</span> 向 贾 环 道 ： \n"
      ],
      "text/plain": [
       "<IPython.core.display.Markdown object>"
      ]
     },
     "metadata": {},
     "output_type": "display_data"
    },
    {
     "data": {
      "text/markdown": [
       "大 家 想 着 ， 宝 钗 却 等 不 得 了 ， 也 不 等 贾 政 的 命 ， 便 说 道 ： \n"
      ],
      "text/plain": [
       "<IPython.core.display.Markdown object>"
      ]
     },
     "metadata": {},
     "output_type": "display_data"
    },
    {
     "data": {
      "text/markdown": [
       "<span style=\"color: #ff0000\">湘</span> <span style=\"color: #ff0000\">云</span> 笑 道 ： \n"
      ],
      "text/plain": [
       "<IPython.core.display.Markdown object>"
      ]
     },
     "metadata": {},
     "output_type": "display_data"
    },
    {
     "data": {
      "text/markdown": [
       "<span style=\"color: #ff0000\">宝</span> <span style=\"color: #ff0000\">玉</span> 道 ： \n"
      ],
      "text/plain": [
       "<IPython.core.display.Markdown object>"
      ]
     },
     "metadata": {},
     "output_type": "display_data"
    },
    {
     "data": {
      "text/markdown": [
       "说 毕 ， 往 前 一 望 ， 见 白 石 л о ， 或 如 鬼 怪 ， 或 如 猛 兽 ， 纵 横 拱 立 ， 上 面 苔 藓 成 斑 ， 藤 萝 掩 映 ， 其 中 微 露 羊 肠 小 径 ． <span style=\"color: #ff0000\">贾</span> <span style=\"color: #ff0000\">瑞</span> 道 ： \n"
      ],
      "text/plain": [
       "<IPython.core.display.Markdown object>"
      ]
     },
     "metadata": {},
     "output_type": "display_data"
    },
    {
     "data": {
      "text/markdown": [
       "说 着 ， 袭 人 已 来 ， 彼 此 相 见 ． <span style=\"color: #ff0000\">袭</span> <span style=\"color: #ff0000\">人</span> 又 问 宝 玉 何 处 吃 饭 ， 多 早 晚 回 来 ， 又 代 母 妹 问 诸 同 伴 姊 妹 好 ． 一 时 换 衣 卸 妆 ． 宝 玉 命 取 酥 酪 来 ， <span style=\"color: #ff0000\">宝</span> <span style=\"color: #ff0000\">玉</span> 回 说 ： \n"
      ],
      "text/plain": [
       "<IPython.core.display.Markdown object>"
      ]
     },
     "metadata": {},
     "output_type": "display_data"
    },
    {
     "data": {
      "text/markdown": [
       "金 氏 去 后 ， 贾 政 方 过 来 坐 下 ， 问 尤 氏 道 ： \n"
      ],
      "text/plain": [
       "<IPython.core.display.Markdown object>"
      ]
     },
     "metadata": {},
     "output_type": "display_data"
    },
    {
     "data": {
      "text/markdown": [
       "<span style=\"color: #ff0000\">门</span> <span style=\"color: #ff0000\">子</span> 说 道 ： \n"
      ],
      "text/plain": [
       "<IPython.core.display.Markdown object>"
      ]
     },
     "metadata": {},
     "output_type": "display_data"
    },
    {
     "data": {
      "text/markdown": [
       "贾 蓉 于 是 同 先 生 到 外 间 房 里 床 上 坐 下 ， 一 个 婆 子 端 了 茶 来 ． <span style=\"color: #ff0000\">雨</span> <span style=\"color: #ff0000\">村</span> 道 ： \n"
      ],
      "text/plain": [
       "<IPython.core.display.Markdown object>"
      ]
     },
     "metadata": {},
     "output_type": "display_data"
    },
    {
     "data": {
      "text/markdown": [
       "<span style=\"color: #ff0000\">黛</span> <span style=\"color: #ff0000\">玉</span> 笑 道 ： \n"
      ],
      "text/plain": [
       "<IPython.core.display.Markdown object>"
      ]
     },
     "metadata": {},
     "output_type": "display_data"
    },
    {
     "data": {
      "text/markdown": [
       "说 着 ， 又 转 了 两 层 纱 厨 锦 к ， 果 得 一 门 出 去 ， 院 中 满 架 蔷 薇 ， 宝 相 ． 转 过 花 障 ， 则 见 青 溪 前 阻 ． <span style=\"color: #ff0000\">老</span> <span style=\"color: #ff0000\">尼</span> 咤 异 ： \n"
      ],
      "text/plain": [
       "<IPython.core.display.Markdown object>"
      ]
     },
     "metadata": {},
     "output_type": "display_data"
    },
    {
     "data": {
      "text/markdown": [
       "<span style=\"color: #ff0000\">警</span> <span style=\"color: #ff0000\">幻</span> 笑 道 ： \n"
      ],
      "text/plain": [
       "<IPython.core.display.Markdown object>"
      ]
     },
     "metadata": {},
     "output_type": "display_data"
    },
    {
     "data": {
      "text/markdown": [
       "<span style=\"color: #ff0000\">宝</span> <span style=\"color: #ff0000\">钗</span> 听 了 ， 低 头 想 了 半 日 道 ： \n"
      ],
      "text/plain": [
       "<IPython.core.display.Markdown object>"
      ]
     },
     "metadata": {},
     "output_type": "display_data"
    },
    {
     "data": {
      "text/markdown": [
       "<span style=\"color: #ff0000\">雨</span> <span style=\"color: #ff0000\">村</span> 回 说 ： \n"
      ],
      "text/plain": [
       "<IPython.core.display.Markdown object>"
      ]
     },
     "metadata": {},
     "output_type": "display_data"
    },
    {
     "data": {
      "text/markdown": [
       "<span style=\"color: #ff0000\">雨</span> <span style=\"color: #ff0000\">村</span> 道 ： \n"
      ],
      "text/plain": [
       "<IPython.core.display.Markdown object>"
      ]
     },
     "metadata": {},
     "output_type": "display_data"
    },
    {
     "data": {
      "text/markdown": [
       "<span style=\"color: #ff0000\">周</span> <span style=\"color: #ff0000\">瑞</span> <span style=\"color: #ff0000\">家</span> <span style=\"color: #ff0000\">的</span> 忙 携 手 垂 泪 道 ： \n"
      ],
      "text/plain": [
       "<IPython.core.display.Markdown object>"
      ]
     },
     "metadata": {},
     "output_type": "display_data"
    },
    {
     "data": {
      "text/markdown": [
       "<span style=\"color: #ff0000\">宝</span> <span style=\"color: #ff0000\">玉</span> 笑 道 ： \n"
      ],
      "text/plain": [
       "<IPython.core.display.Markdown object>"
      ]
     },
     "metadata": {},
     "output_type": "display_data"
    },
    {
     "data": {
      "text/markdown": [
       "<span style=\"color: #ff0000\">湘</span> <span style=\"color: #ff0000\">云</span> 答 道 ： \n"
      ],
      "text/plain": [
       "<IPython.core.display.Markdown object>"
      ]
     },
     "metadata": {},
     "output_type": "display_data"
    },
    {
     "data": {
      "text/markdown": [
       "<span style=\"color: #ff0000\">尤</span> <span style=\"color: #ff0000\">氏</span> <span style=\"color: #ff0000\">秦</span> <span style=\"color: #ff0000\">氏</span> 未 及 答 话 ， 地 下 <span style=\"color: #ff0000\">宝</span> <span style=\"color: #ff0000\">玉</span> 先 就 笑 说 ： \n"
      ],
      "text/plain": [
       "<IPython.core.display.Markdown object>"
      ]
     },
     "metadata": {},
     "output_type": "display_data"
    },
    {
     "data": {
      "text/markdown": [
       "<span style=\"color: #ff0000\">林</span> <span style=\"color: #ff0000\">黛</span> <span style=\"color: #ff0000\">玉</span> 道 ： \n"
      ],
      "text/plain": [
       "<IPython.core.display.Markdown object>"
      ]
     },
     "metadata": {},
     "output_type": "display_data"
    },
    {
     "data": {
      "text/markdown": [
       "歌 毕 ， 还 要 歌 副 曲 ． 王 兴 媳 妇 见 宝 玉 甚 无 趣 味 ， 因 叹 ： \n"
      ],
      "text/plain": [
       "<IPython.core.display.Markdown object>"
      ]
     },
     "metadata": {},
     "output_type": "display_data"
    },
    {
     "data": {
      "text/markdown": [
       "<span style=\"color: #ff0000\">宝</span> <span style=\"color: #ff0000\">玉</span> 笑 道 ： \n"
      ],
      "text/plain": [
       "<IPython.core.display.Markdown object>"
      ]
     },
     "metadata": {},
     "output_type": "display_data"
    },
    {
     "data": {
      "text/markdown": [
       "<span style=\"color: #ff0000\">雨</span> <span style=\"color: #ff0000\">村</span> 一 面 又 说 ： \n"
      ],
      "text/plain": [
       "<IPython.core.display.Markdown object>"
      ]
     },
     "metadata": {},
     "output_type": "display_data"
    },
    {
     "data": {
      "text/markdown": [
       "<span style=\"color: #ff0000\">凤</span> <span style=\"color: #ff0000\">姐</span> 道 ： \n"
      ],
      "text/plain": [
       "<IPython.core.display.Markdown object>"
      ]
     },
     "metadata": {},
     "output_type": "display_data"
    },
    {
     "data": {
      "text/markdown": [
       "未 及 说 完 ， <span style=\"color: #ff0000\">贾</span> <span style=\"color: #ff0000\">蔷</span> 气 的 喝 命 ： \n"
      ],
      "text/plain": [
       "<IPython.core.display.Markdown object>"
      ]
     },
     "metadata": {},
     "output_type": "display_data"
    },
    {
     "data": {
      "text/markdown": [
       "王 夫 人 见 都 判 如 此 ， 也 都 忙 了 手 脚 ， 一 面 又 抱 怨 道 ： \n"
      ],
      "text/plain": [
       "<IPython.core.display.Markdown object>"
      ]
     },
     "metadata": {},
     "output_type": "display_data"
    },
    {
     "data": {
      "text/markdown": [
       "<span style=\"color: #ff0000\">宝</span> <span style=\"color: #ff0000\">玉</span> 听 了 ， 笑 向 贾 珍 道 ： \n"
      ],
      "text/plain": [
       "<IPython.core.display.Markdown object>"
      ]
     },
     "metadata": {},
     "output_type": "display_data"
    },
    {
     "data": {
      "text/markdown": [
       "<span style=\"color: #ff0000\">贾</span> <span style=\"color: #ff0000\">珍</span> 听 了 这 话 ， 便 发 了 兴 头 ， 说 道 ： \n"
      ],
      "text/plain": [
       "<IPython.core.display.Markdown object>"
      ]
     },
     "metadata": {},
     "output_type": "display_data"
    },
    {
     "data": {
      "text/markdown": [
       "<span style=\"color: #ff0000\">宝</span> <span style=\"color: #ff0000\">玉</span> 说 道 ： \n"
      ],
      "text/plain": [
       "<IPython.core.display.Markdown object>"
      ]
     },
     "metadata": {},
     "output_type": "display_data"
    },
    {
     "data": {
      "text/markdown": [
       "． 只 见 佳 木 茏 葱 ， 奇 花 闪 灼 ， 一 带 清 流 ， 从 花 木 深 处 曲 折 泻 于 石 隙 之 下 ． 再 进 数 步 ， 渐 向 北 边 ， 平 坦 宽 豁 ， 两 边 飞 楼 插 空 ， 雕 н 绣 槛 ， 皆 隐 于 山 ? 树 杪 之 间 ． 俯 而 视 之 ， 则 清 溪 泻 雪 ， 石 磴 穿 云 ， 白 石 为 栏 ， 环 抱 池 沿 ， 石 桥 三 港 ， 兽 面 衔 吐 ． 桥 上 有 亭 ． 雨 村 与 诸 人 上 了 亭 子 ， 倚 栏 坐 了 ， 因 问 ： \n"
      ],
      "text/plain": [
       "<IPython.core.display.Markdown object>"
      ]
     },
     "metadata": {},
     "output_type": "display_data"
    },
    {
     "data": {
      "text/markdown": [
       "说 着 ， 抱 到 屋 里 炕 上 就 亲 嘴 扯 裤 子 ， 满 口 里 \" 亲 娘 ” “ 亲 爹 \" 的 乱 叫 起 来 ． 那 人 只 不 作 声 ． 贾 瑞 拉 了 自 己 裤 子 ， 硬 帮 帮 的 就 想 顶 入 ． 忽 见 灯 光 一 闪 ， 只 见 <span style=\"color: #ff0000\">厨</span> <span style=\"color: #ff0000\">上</span> <span style=\"color: #ff0000\">封</span> <span style=\"color: #ff0000\">条</span> 举 着 个 捻 子 照 道 ： \n"
      ],
      "text/plain": [
       "<IPython.core.display.Markdown object>"
      ]
     },
     "metadata": {},
     "output_type": "display_data"
    },
    {
     "data": {
      "text/markdown": [
       "<span style=\"color: #ff0000\">袭</span> <span style=\"color: #ff0000\">人</span> 笑 道 ： \n"
      ],
      "text/plain": [
       "<IPython.core.display.Markdown object>"
      ]
     },
     "metadata": {},
     "output_type": "display_data"
    },
    {
     "data": {
      "text/markdown": [
       "眉 弄 眼 ， 或 咳 嗽 扬 声 ， 这 也 非 止 一 日 ． 可 巧 这 日 代 儒 有 事 ， 早 已 回 家 去 了 ， 只 留 下 一 句 七 言 对 联 ， 命 学 生 对 了 ， 明 日 再 来 上 书 ， 将 学 中 之 事 ， 又 命 贾 瑞 暂 且 管 理 ． 妙 在 薛 蟠 如 今 不 大 来 学 中 应 卯 了 ， 因 此 秦 钟 趁 此 和 香 怜 挤 眉 弄 眼 ， 递 暗 号 儿 ， 二 人 假 装 出 小 恭 ， 走 至 后 院 说 梯 己 话 ． 有 的 先 问 他 ： \n"
      ],
      "text/plain": [
       "<IPython.core.display.Markdown object>"
      ]
     },
     "metadata": {},
     "output_type": "display_data"
    },
    {
     "data": {
      "text/markdown": [
       "<span style=\"color: #ff0000\">周</span> <span style=\"color: #ff0000\">瑞</span> <span style=\"color: #ff0000\">家</span> <span style=\"color: #ff0000\">的</span> 笑 嘻 嘻 的 说 ： \n"
      ],
      "text/plain": [
       "<IPython.core.display.Markdown object>"
      ]
     },
     "metadata": {},
     "output_type": "display_data"
    },
    {
     "data": {
      "text/markdown": [
       "<span style=\"color: #ff0000\">黛</span> <span style=\"color: #ff0000\">玉</span> 道 ： \n"
      ],
      "text/plain": [
       "<IPython.core.display.Markdown object>"
      ]
     },
     "metadata": {},
     "output_type": "display_data"
    },
    {
     "data": {
      "text/markdown": [
       "连 问 几 声 ， <span style=\"color: #ff0000\">宝</span> <span style=\"color: #ff0000\">玉</span> 睁 眼 说 道 ： \n"
      ],
      "text/plain": [
       "<IPython.core.display.Markdown object>"
      ]
     },
     "metadata": {},
     "output_type": "display_data"
    },
    {
     "data": {
      "text/markdown": [
       "那 女 学 生 黛 玉 ， 身 体 方 愈 ， 原 不 忍 弃 父 而 往 ， 无 奈 他 外 祖 母 致 意 务 去 ， 且 兼 <span style=\"color: #ff0000\">宝</span> <span style=\"color: #ff0000\">玉</span> 说 ： \n"
      ],
      "text/plain": [
       "<IPython.core.display.Markdown object>"
      ]
     },
     "metadata": {},
     "output_type": "display_data"
    },
    {
     "data": {
      "text/markdown": [
       "<span style=\"color: #ff0000\">周</span> <span style=\"color: #ff0000\">瑞</span> <span style=\"color: #ff0000\">家</span> <span style=\"color: #ff0000\">的</span> 笑 道 ： \n"
      ],
      "text/plain": [
       "<IPython.core.display.Markdown object>"
      ]
     },
     "metadata": {},
     "output_type": "display_data"
    },
    {
     "data": {
      "text/markdown": [
       "宝 玉 的 道 ： \n"
      ],
      "text/plain": [
       "<IPython.core.display.Markdown object>"
      ]
     },
     "metadata": {},
     "output_type": "display_data"
    },
    {
     "data": {
      "text/markdown": [
       "<span style=\"color: #ff0000\">宝</span> <span style=\"color: #ff0000\">玉</span> 笑 道 ： \n"
      ],
      "text/plain": [
       "<IPython.core.display.Markdown object>"
      ]
     },
     "metadata": {},
     "output_type": "display_data"
    },
    {
     "data": {
      "text/markdown": [
       "<span style=\"color: #ff0000\">李</span> <span style=\"color: #ff0000\">嬷</span> <span style=\"color: #ff0000\">嬷</span> 听 了 ， 恍 惚 问 道 ： \n"
      ],
      "text/plain": [
       "<IPython.core.display.Markdown object>"
      ]
     },
     "metadata": {},
     "output_type": "display_data"
    },
    {
     "data": {
      "text/markdown": [
       "<span style=\"color: #ff0000\">王</span> <span style=\"color: #ff0000\">夫</span> <span style=\"color: #ff0000\">人</span> 听 说 ， 便 回 去 了 ， 又 说 ： \n"
      ],
      "text/plain": [
       "<IPython.core.display.Markdown object>"
      ]
     },
     "metadata": {},
     "output_type": "display_data"
    },
    {
     "data": {
      "text/markdown": [
       "<span style=\"color: #ff0000\">袭</span> <span style=\"color: #ff0000\">人</span> 忙 止 步 问 道 ： \n"
      ],
      "text/plain": [
       "<IPython.core.display.Markdown object>"
      ]
     },
     "metadata": {},
     "output_type": "display_data"
    },
    {
     "data": {
      "text/markdown": [
       "<span style=\"color: #ff0000\">士</span> <span style=\"color: #ff0000\">隐</span> 听 了 ， 知 是 疯 话 ， 也 不 去 睬 他 ． 林 黛 玉 还 说 ： \n"
      ],
      "text/plain": [
       "<IPython.core.display.Markdown object>"
      ]
     },
     "metadata": {},
     "output_type": "display_data"
    },
    {
     "data": {
      "text/markdown": [
       "一 面 说 ， 一 面 赌 气 将 酥 酪 吃 尽 ． 又 <span style=\"color: #ff0000\">凤</span> <span style=\"color: #ff0000\">姐</span> 笑 道 ： \n"
      ],
      "text/plain": [
       "<IPython.core.display.Markdown object>"
      ]
     },
     "metadata": {},
     "output_type": "display_data"
    },
    {
     "data": {
      "text/markdown": [
       "<span style=\"color: #ff0000\">贾</span> <span style=\"color: #ff0000\">珍</span> 笑 道 ： \n"
      ],
      "text/plain": [
       "<IPython.core.display.Markdown object>"
      ]
     },
     "metadata": {},
     "output_type": "display_data"
    },
    {
     "data": {
      "text/markdown": [
       "说 着 ， 也 不 打 帘 子 让 凤 姐 ， 自 己 先 摔 帘 子 进 来 ， 往 那 边 去 了 ． <span style=\"color: #ff0000\">赵</span> <span style=\"color: #ff0000\">嬷</span> <span style=\"color: #ff0000\">嬷</span> 自 掀 帘 子 进 来 ， 说 道 ： \n"
      ],
      "text/plain": [
       "<IPython.core.display.Markdown object>"
      ]
     },
     "metadata": {},
     "output_type": "display_data"
    },
    {
     "data": {
      "text/markdown": [
       "<span style=\"color: #ff0000\">宝</span> <span style=\"color: #ff0000\">玉</span> 摔 手 道 ： \n"
      ],
      "text/plain": [
       "<IPython.core.display.Markdown object>"
      ]
     },
     "metadata": {},
     "output_type": "display_data"
    },
    {
     "data": {
      "text/markdown": [
       "<span style=\"color: #ff0000\">林</span> <span style=\"color: #ff0000\">黛</span> <span style=\"color: #ff0000\">玉</span> 道 ： \n"
      ],
      "text/plain": [
       "<IPython.core.display.Markdown object>"
      ]
     },
     "metadata": {},
     "output_type": "display_data"
    },
    {
     "data": {
      "text/markdown": [
       "<span style=\"color: #ff0000\">凤</span> <span style=\"color: #ff0000\">姐</span> 听 了 笑 道 ： \n"
      ],
      "text/plain": [
       "<IPython.core.display.Markdown object>"
      ]
     },
     "metadata": {},
     "output_type": "display_data"
    },
    {
     "data": {
      "text/markdown": [
       "<span style=\"color: #ff0000\">贾</span> <span style=\"color: #ff0000\">瑞</span> 笑 道 ： \n"
      ],
      "text/plain": [
       "<IPython.core.display.Markdown object>"
      ]
     },
     "metadata": {},
     "output_type": "display_data"
    },
    {
     "data": {
      "text/markdown": [
       "<span style=\"color: #ff0000\">李</span> <span style=\"color: #ff0000\">嬷</span> <span style=\"color: #ff0000\">嬷</span> 道 ： \n"
      ],
      "text/plain": [
       "<IPython.core.display.Markdown object>"
      ]
     },
     "metadata": {},
     "output_type": "display_data"
    },
    {
     "data": {
      "text/markdown": [
       "<span style=\"color: #ff0000\">茗</span> <span style=\"color: #ff0000\">烟</span> 纳 罕 道 ： \n"
      ],
      "text/plain": [
       "<IPython.core.display.Markdown object>"
      ]
     },
     "metadata": {},
     "output_type": "display_data"
    },
    {
     "data": {
      "text/markdown": [
       "箱 ， 银 满 箱 ， 展 眼 乞 丐 人 皆 谤 ． 正 叹 他 人 命 不 长 ， 那 知 自 己 归 来 丧 ！ 训 有 方 ， 保 不 定 日 后 作 强 梁 ． 择 膏 粱 ， 谁 承 望 流 落 在 烟 花 巷 ！ 因 嫌 纱 帽 小 ， 致 使 锁 枷 杠 ， 昨 怜 破 袄 寒 ， 今 嫌 紫 蟒 长 ： 乱 烘 烘 你 方 唱 罢 我 登 场 ， 反 认 他 乡 是 故 乡 ． 甚 荒 唐 ， 到 头 来 都 是 为 他 人 作 嫁 衣 裳 ！ 那 <span style=\"color: #ff0000\">凤</span> <span style=\"color: #ff0000\">姐</span> 听 了 ， 拍 掌 笑 道 ： \n"
      ],
      "text/plain": [
       "<IPython.core.display.Markdown object>"
      ]
     },
     "metadata": {},
     "output_type": "display_data"
    },
    {
     "data": {
      "text/markdown": [
       "那 袭 人 自 见 了 秦 钟 的 人 品 出 众 ， 心 中 似 有 所 失 ， 痴 了 半 日 ， 自 己 心 中 又 起 了 呆 意 ， 乃 自 思 道 ： \n"
      ],
      "text/plain": [
       "<IPython.core.display.Markdown object>"
      ]
     },
     "metadata": {},
     "output_type": "display_data"
    },
    {
     "data": {
      "text/markdown": [
       "<span style=\"color: #ff0000\">贾</span> <span style=\"color: #ff0000\">珍</span> 冷 笑 道 ： \n"
      ],
      "text/plain": [
       "<IPython.core.display.Markdown object>"
      ]
     },
     "metadata": {},
     "output_type": "display_data"
    },
    {
     "data": {
      "text/markdown": [
       "<span style=\"color: #ff0000\">尤</span> <span style=\"color: #ff0000\">氏</span> 笑 道 ： \n"
      ],
      "text/plain": [
       "<IPython.core.display.Markdown object>"
      ]
     },
     "metadata": {},
     "output_type": "display_data"
    },
    {
     "data": {
      "text/markdown": [
       "<span style=\"color: #ff0000\">一</span> <span style=\"color: #ff0000\">个</span> <span style=\"color: #ff0000\">人</span> 道 ： \n"
      ],
      "text/plain": [
       "<IPython.core.display.Markdown object>"
      ]
     },
     "metadata": {},
     "output_type": "display_data"
    },
    {
     "data": {
      "text/markdown": [
       "<span style=\"color: #ff0000\">宝</span> <span style=\"color: #ff0000\">玉</span> 忙 答 道 ： \n"
      ],
      "text/plain": [
       "<IPython.core.display.Markdown object>"
      ]
     },
     "metadata": {},
     "output_type": "display_data"
    }
   ],
   "source": [
    "for i in range(100):\n",
    "    check_result(i)"
   ]
  },
  {
   "cell_type": "code",
   "execution_count": null,
   "metadata": {
    "collapsed": true
   },
   "outputs": [],
   "source": []
  }
 ],
 "metadata": {
  "kernelspec": {
   "display_name": "Python 3",
   "language": "python",
   "name": "python3"
  },
  "language_info": {
   "codemirror_mode": {
    "name": "ipython",
    "version": 3
   },
   "file_extension": ".py",
   "mimetype": "text/x-python",
   "name": "python",
   "nbconvert_exporter": "python",
   "pygments_lexer": "ipython3",
   "version": "3.6.6"
  }
 },
 "nbformat": 4,
 "nbformat_minor": 2
}
